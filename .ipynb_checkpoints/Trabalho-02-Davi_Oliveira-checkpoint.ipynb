{
 "cells": [
  {
   "cell_type": "markdown",
   "id": "b678faf6-48b0-444c-b50f-29b7af0cb955",
   "metadata": {},
   "source": [
    "<h1 align=\"center\"><b>Trabalho 02 – Privacidade Diferencial Mecanismos Laplace & Exponencial<b></h1>\n",
    "<h1 align=\"center\">\n",
    "    <a href=\"https://si3.ufc.br/sigaa/portais/discente/discente.jsf\">Davi Oliveira Lopes - Matrícula: 543049</a>\n",
    "</h1>\n",
    "<h1 align=\"center\">\n",
    "    <a href=\"https://cc.ufc.br/curso/corpo-docente/javam-machado/\"> Professor: Javam Machado</a>\n",
    "</h1>\n",
    "\n",
    "<a href=\"https://github.com/daviolp/Trabalho_Privacidade_Diferencial_RSI\">\n",
    "<img src=\"https://img.shields.io/static/v1?label=GitHub&message=daviolp&color=7159c1&style=for-the-badge&logo=ghost\"/>"
   ]
  },
  {
   "cell_type": "markdown",
   "id": "ce9bc1a7-da4e-4e8c-b4ed-a2eea9b1e31c",
   "metadata": {},
   "source": [
    "### ***Importações***"
   ]
  },
  {
   "cell_type": "code",
   "execution_count": 1,
   "id": "2ef60550-5033-4acf-87b2-538d72e7efd7",
   "metadata": {},
   "outputs": [],
   "source": [
    "import pandas as pd\n",
    "import numpy as np\n",
    "import matplotlib.pyplot as plt\n",
    "import seaborn as sns"
   ]
  },
  {
   "cell_type": "markdown",
   "id": "52fefe3d-bee8-454b-93f3-8a927d492e46",
   "metadata": {},
   "source": [
    "### ***Carregando Dataset***"
   ]
  },
  {
   "cell_type": "code",
   "execution_count": 2,
   "id": "3f3746bf-bb70-4859-88c6-25dd5ddbdfa7",
   "metadata": {},
   "outputs": [
    {
     "data": {
      "text/html": [
       "<div>\n",
       "<style scoped>\n",
       "    .dataframe tbody tr th:only-of-type {\n",
       "        vertical-align: middle;\n",
       "    }\n",
       "\n",
       "    .dataframe tbody tr th {\n",
       "        vertical-align: top;\n",
       "    }\n",
       "\n",
       "    .dataframe thead th {\n",
       "        text-align: right;\n",
       "    }\n",
       "</style>\n",
       "<table border=\"1\" class=\"dataframe\">\n",
       "  <thead>\n",
       "    <tr style=\"text-align: right;\">\n",
       "      <th></th>\n",
       "      <th>Identificador</th>\n",
       "      <th>CodigoMunicipio</th>\n",
       "      <th>Municipio</th>\n",
       "      <th>Estado</th>\n",
       "      <th>Genero</th>\n",
       "      <th>Nascimento</th>\n",
       "      <th>ResultadoExame</th>\n",
       "    </tr>\n",
       "  </thead>\n",
       "  <tbody>\n",
       "    <tr>\n",
       "      <th>0</th>\n",
       "      <td>c3ba634113e4b5eb0e3eaae93b09759b</td>\n",
       "      <td>231290.0</td>\n",
       "      <td>SOBRAL</td>\n",
       "      <td>CE</td>\n",
       "      <td>MASCULINO</td>\n",
       "      <td>2003-08-14</td>\n",
       "      <td>Negativo</td>\n",
       "    </tr>\n",
       "    <tr>\n",
       "      <th>1</th>\n",
       "      <td>ac84809bfc89b992a0a0221e50b135c0</td>\n",
       "      <td>230960.0</td>\n",
       "      <td>PACAJUS</td>\n",
       "      <td>CE</td>\n",
       "      <td>MASCULINO</td>\n",
       "      <td>1983-11-07</td>\n",
       "      <td>Negativo</td>\n",
       "    </tr>\n",
       "    <tr>\n",
       "      <th>2</th>\n",
       "      <td>28ccfaa0c53b792cd1ffa0b7e535f617</td>\n",
       "      <td>230523.0</td>\n",
       "      <td>HORIZONTE</td>\n",
       "      <td>CE</td>\n",
       "      <td>FEMININO</td>\n",
       "      <td>1982-01-14</td>\n",
       "      <td>Negativo</td>\n",
       "    </tr>\n",
       "  </tbody>\n",
       "</table>\n",
       "</div>"
      ],
      "text/plain": [
       "                      Identificador  CodigoMunicipio  Municipio Estado  \\\n",
       "0  c3ba634113e4b5eb0e3eaae93b09759b         231290.0     SOBRAL     CE   \n",
       "1  ac84809bfc89b992a0a0221e50b135c0         230960.0    PACAJUS     CE   \n",
       "2  28ccfaa0c53b792cd1ffa0b7e535f617         230523.0  HORIZONTE     CE   \n",
       "\n",
       "      Genero  Nascimento ResultadoExame  \n",
       "0  MASCULINO  2003-08-14       Negativo  \n",
       "1  MASCULINO  1983-11-07       Negativo  \n",
       "2   FEMININO  1982-01-14       Negativo  "
      ]
     },
     "execution_count": 2,
     "metadata": {},
     "output_type": "execute_result"
    }
   ],
   "source": [
    "df = pd.read_csv('covid.csv', sep=';', delimiter=None,).drop(['Unnamed: 0'], axis=1)\n",
    "df.head(3)"
   ]
  },
  {
   "cell_type": "markdown",
   "id": "80707809-f925-4528-a806-4e088fe52172",
   "metadata": {},
   "source": [
    "### ***Quantidade Total de Registros***"
   ]
  },
  {
   "cell_type": "code",
   "execution_count": 3,
   "id": "48bdbd11-800e-40bb-9664-9381b6a9f634",
   "metadata": {},
   "outputs": [
    {
     "name": "stdout",
     "output_type": "stream",
     "text": [
      "------------------------------------|\n",
      "Total de Exames no Dataset: 879543--|\n",
      "------------------------------------|\n"
     ]
    }
   ],
   "source": [
    "print('------------------------------------|')\n",
    "print(f'Total de Exames no Dataset: {df.shape[0]}--|')\n",
    "print('------------------------------------|')"
   ]
  },
  {
   "cell_type": "markdown",
   "id": "06eaab51-026a-4bbf-9d61-b8088e41d399",
   "metadata": {},
   "source": [
    "### ***Cálculo da Data de Nascimento***"
   ]
  },
  {
   "cell_type": "code",
   "execution_count": 4,
   "id": "2c5c3716-3ea2-44a5-8aea-2fccbb775e0a",
   "metadata": {},
   "outputs": [],
   "source": [
    "df['Nascimento'] = pd.to_datetime(df['Nascimento'], errors = 'coerce')\n",
    "df['Nascimento'] = pd.to_datetime(df['Nascimento'], format='%Y-%m-%d')"
   ]
  },
  {
   "cell_type": "markdown",
   "id": "d92f4d52-e368-4935-bb88-1801284766fb",
   "metadata": {},
   "source": [
    "### ***Criação da Coluna 'Idade'***"
   ]
  },
  {
   "cell_type": "code",
   "execution_count": 5,
   "id": "b9d4b57e-331c-46e8-b139-4dc2a35af467",
   "metadata": {},
   "outputs": [],
   "source": [
    "data_atual = pd.to_datetime('2022-09-22',  format='%Y-%m-%d')\n",
    "df['idade'] = (data_atual.year - df['Nascimento'].dt.year) - ((data_atual.month - df['Nascimento'].dt.month) < 0)"
   ]
  },
  {
   "cell_type": "code",
   "execution_count": 6,
   "id": "515cb521-fb53-4f68-9091-8cd53b1319f8",
   "metadata": {},
   "outputs": [],
   "source": [
    "df = df.query('idade < 122')"
   ]
  },
  {
   "cell_type": "code",
   "execution_count": 7,
   "id": "8e485a0e-7bce-4946-8dfa-4b3b0fea8541",
   "metadata": {},
   "outputs": [
    {
     "data": {
      "text/html": [
       "<div>\n",
       "<style scoped>\n",
       "    .dataframe tbody tr th:only-of-type {\n",
       "        vertical-align: middle;\n",
       "    }\n",
       "\n",
       "    .dataframe tbody tr th {\n",
       "        vertical-align: top;\n",
       "    }\n",
       "\n",
       "    .dataframe thead th {\n",
       "        text-align: right;\n",
       "    }\n",
       "</style>\n",
       "<table border=\"1\" class=\"dataframe\">\n",
       "  <thead>\n",
       "    <tr style=\"text-align: right;\">\n",
       "      <th></th>\n",
       "      <th>Identificador</th>\n",
       "      <th>CodigoMunicipio</th>\n",
       "      <th>Municipio</th>\n",
       "      <th>Estado</th>\n",
       "      <th>Genero</th>\n",
       "      <th>Nascimento</th>\n",
       "      <th>ResultadoExame</th>\n",
       "      <th>idade</th>\n",
       "    </tr>\n",
       "  </thead>\n",
       "  <tbody>\n",
       "    <tr>\n",
       "      <th>0</th>\n",
       "      <td>c3ba634113e4b5eb0e3eaae93b09759b</td>\n",
       "      <td>231290.0</td>\n",
       "      <td>SOBRAL</td>\n",
       "      <td>CE</td>\n",
       "      <td>MASCULINO</td>\n",
       "      <td>2003-08-14</td>\n",
       "      <td>Negativo</td>\n",
       "      <td>19.0</td>\n",
       "    </tr>\n",
       "    <tr>\n",
       "      <th>1</th>\n",
       "      <td>ac84809bfc89b992a0a0221e50b135c0</td>\n",
       "      <td>230960.0</td>\n",
       "      <td>PACAJUS</td>\n",
       "      <td>CE</td>\n",
       "      <td>MASCULINO</td>\n",
       "      <td>1983-11-07</td>\n",
       "      <td>Negativo</td>\n",
       "      <td>38.0</td>\n",
       "    </tr>\n",
       "    <tr>\n",
       "      <th>2</th>\n",
       "      <td>28ccfaa0c53b792cd1ffa0b7e535f617</td>\n",
       "      <td>230523.0</td>\n",
       "      <td>HORIZONTE</td>\n",
       "      <td>CE</td>\n",
       "      <td>FEMININO</td>\n",
       "      <td>1982-01-14</td>\n",
       "      <td>Negativo</td>\n",
       "      <td>40.0</td>\n",
       "    </tr>\n",
       "  </tbody>\n",
       "</table>\n",
       "</div>"
      ],
      "text/plain": [
       "                      Identificador  CodigoMunicipio  Municipio Estado  \\\n",
       "0  c3ba634113e4b5eb0e3eaae93b09759b         231290.0     SOBRAL     CE   \n",
       "1  ac84809bfc89b992a0a0221e50b135c0         230960.0    PACAJUS     CE   \n",
       "2  28ccfaa0c53b792cd1ffa0b7e535f617         230523.0  HORIZONTE     CE   \n",
       "\n",
       "      Genero Nascimento ResultadoExame  idade  \n",
       "0  MASCULINO 2003-08-14       Negativo   19.0  \n",
       "1  MASCULINO 1983-11-07       Negativo   38.0  \n",
       "2   FEMININO 1982-01-14       Negativo   40.0  "
      ]
     },
     "execution_count": 7,
     "metadata": {},
     "output_type": "execute_result"
    }
   ],
   "source": [
    "df.head(3)"
   ]
  },
  {
   "cell_type": "markdown",
   "id": "01eb085c-82e7-46d6-a6f3-3b7f7904ef15",
   "metadata": {},
   "source": [
    "# ***1.1 Mecanismo de Laplace***\n",
    "<h3 align=\"left\">\n",
    "<b><span style=\"color:green\">Q1: Média da Idade dos Indivíduos Representados no Dataset</span></b>\n",
    "</h3>"
   ]
  },
  {
   "cell_type": "code",
   "execution_count": 8,
   "id": "d4773785-f4e5-44c4-949a-7b36b9f90c38",
   "metadata": {},
   "outputs": [
    {
     "name": "stdout",
     "output_type": "stream",
     "text": [
      "8.931494397756978e-05 0.0006275140909522055 41.44929537539207 41.44866786130112\n",
      "8.931494397756978e-05 5.801303452772168e-05 41.44872587433564 41.44866786130112\n",
      "8.931494397756978e-05 0.00026215616538831235 41.44893001746651 41.44866786130112\n",
      "8.931494397756978e-05 -1.3186171977113552e-05 41.44865467512914 41.44866786130112\n"
     ]
    }
   ],
   "source": [
    "f_d_linha = (df['idade'].sum() - df['idade']) / (df.shape[0] - 1)\n",
    "f_d = df['idade'].mean()\n",
    "delta_f = abs(f_d - f_d_linha.min())\n",
    "budget = [0.1, 0.5, 1.0, 10.0]\n",
    "\n",
    "rui = []\n",
    "ori = []\n",
    "for valor in budget:\n",
    "    b = delta_f / valor\n",
    "    ruido = np.random.laplace(loc=0, scale=b)\n",
    "    ori.append(f_d)\n",
    "    rui.append(f_d + ruido)\n",
    "    print(delta_f, ruido, f_d + ruido, f_d)"
   ]
  },
  {
   "cell_type": "markdown",
   "id": "5ab87f4d-b04f-4356-86fa-bb2962a5c4b2",
   "metadata": {},
   "source": [
    "<h3 align=\"left\">\n",
    "<b><span style=\"color:green\">Criação do arquivo.csv da Média da Idade dos Indivíduos Representados no Dataset</span></b>\n",
    "</h3>"
   ]
  },
  {
   "cell_type": "code",
   "execution_count": 9,
   "id": "4ec46e12-6b0d-46d8-a07b-8fda33db1b57",
   "metadata": {},
   "outputs": [],
   "source": [
    "CSV1 = pd.DataFrame(rui, columns=['Média_Idades'])\n",
    "CSV1['Epsilon'] = 0.1, 0.5, 1.0, 10.0\n",
    "CSV1.to_csv('CSV_1.1_Q1.csv', index=False)"
   ]
  },
  {
   "cell_type": "markdown",
   "id": "c63bcbce-b623-4b28-a068-698cc0912ae5",
   "metadata": {},
   "source": [
    "<h3 align=\"left\">\n",
    "<b><span style=\"color:blue\">Gráfico de Exemplificação da Q1</span></b>\n",
    "</h3>"
   ]
  },
  {
   "cell_type": "code",
   "execution_count": 10,
   "id": "be6aea53-5c38-4e19-b3dc-1fffae542bb1",
   "metadata": {},
   "outputs": [
    {
     "data": {
      "image/png": "[encoded data removed]",
      "text/plain": [
       "<Figure size 720x432 with 1 Axes>"
      ]
     },
     "metadata": {},
     "output_type": "display_data"
    }
   ],
   "source": [
    "sns.set()\n",
    "plt.figure(figsize=(10,6))\n",
    "\n",
    "labe = f'Com ruido'\n",
    "plt.plot(budget, rui, '-o', label=labe)\n",
    "\n",
    "labe1 = f'Sem ruido'\n",
    "plt.plot(budget, ori, '-o', label=labe1)\n",
    "\n",
    "plt.title(f'Saida com e sem ruido')\n",
    "plt.legend(title='tipo de saida')\n",
    "plt.xlabel('Epsilon')\n",
    "plt.ylabel('Saida')\n",
    "plt.show()"
   ]
  },
  {
   "cell_type": "markdown",
   "id": "2e7efe92-3769-4027-b34a-b3c564dee7b5",
   "metadata": {},
   "source": [
    "<h3 align=\"left\">\n",
    "<b><span style=\"color:green\">Q2: Número de Exames Positivos</span></b>\n",
    "</h3>"
   ]
  },
  {
   "cell_type": "code",
   "execution_count": 11,
   "id": "8322462c-deca-43fe-8865-a441122aeef4",
   "metadata": {},
   "outputs": [
    {
     "name": "stdout",
     "output_type": "stream",
     "text": [
      "1 -1.468043551138093 265912.53195644886 265914\n",
      "1 1.4087505957849178 265915.40875059576 265914\n",
      "1 0.09808089732664364 265914.09808089735 265914\n",
      "1 0.05802845344877388 265914.05802845344 265914\n"
     ]
    }
   ],
   "source": [
    "f_d = df.query('ResultadoExame == \"Positivo\"').shape[0]\n",
    "delta_f = 1\n",
    "budget = [0.1, 0.5, 1.0, 10.0] \n",
    "rui = []\n",
    "ori = []\n",
    "\n",
    "for valor in budget:\n",
    "    b = delta_f / valor\n",
    "    ruido = np.random.laplace(loc=0, scale=b)\n",
    "    ori.append(f_d)\n",
    "    rui.append(f_d + ruido)\n",
    "    print(delta_f, ruido, f_d + ruido, f_d)"
   ]
  },
  {
   "cell_type": "markdown",
   "id": "40d65ec7-803a-4332-b319-296f23cb05a5",
   "metadata": {},
   "source": [
    "<h3 align=\"left\">\n",
    "<b><span style=\"color:green\">Criação do arquivo.csv do Número de Exames Positivos</span></b>\n",
    "</h3>"
   ]
  },
  {
   "cell_type": "code",
   "execution_count": 12,
   "id": "d33724ac-12d1-40f8-95e6-21d2db479e6a",
   "metadata": {},
   "outputs": [],
   "source": [
    "CSV2 = pd.DataFrame(rui, columns=['Média_Idades'])\n",
    "CSV2['Epsilon'] = 0.1, 0.5, 1.0, 10.0\n",
    "CSV2.to_csv('CSV_1.1_Q2.csv', index=False)"
   ]
  },
  {
   "cell_type": "markdown",
   "id": "15fbc719-6568-4669-b139-8fc5018b814a",
   "metadata": {},
   "source": [
    "<h3 align=\"left\">\n",
    "<b><span style=\"color:blue\">Gráfico de Exemplificação da Q2</span></b>\n",
    "</h3>"
   ]
  },
  {
   "cell_type": "code",
   "execution_count": 13,
   "id": "9ce767c8-cd4f-4f8a-86c7-f435790970df",
   "metadata": {},
   "outputs": [
    {
     "data": {
      "image/png": "[encoded data removed]",
      "text/plain": [
       "<Figure size 720x432 with 1 Axes>"
      ]
     },
     "metadata": {},
     "output_type": "display_data"
    }
   ],
   "source": [
    "sns.set()\n",
    "plt.figure(figsize=(10,6))\n",
    "\n",
    "labe = f'Com ruido'\n",
    "plt.plot(budget, rui, '-o', label=labe)\n",
    "\n",
    "labe1 = f'Sem ruido'\n",
    "plt.plot(budget, ori, '-o', label=labe1)\n",
    "\n",
    "plt.title(f'Saida com e sem ruido')\n",
    "plt.legend(title='Tipo de saida')\n",
    "plt.xlabel('Epsilon')\n",
    "plt.ylabel('Saida')\n",
    "plt.show()"
   ]
  },
  {
   "cell_type": "markdown",
   "id": "bf3e005c-a64c-469f-b517-0afa1c09a717",
   "metadata": {},
   "source": [
    "<h3 align=\"left\">\n",
    "<b><span style=\"color:green\"> Q3: Total de Exames Realizados por Município</span></b>\n",
    "</h3>"
   ]
  },
  {
   "cell_type": "code",
   "execution_count": 14,
   "id": "9785b9ac-b60b-47d9-8762-4e95d15d18b5",
   "metadata": {
    "tags": []
   },
   "outputs": [
    {
     "name": "stdout",
     "output_type": "stream",
     "text": [
      "----------------------------------------------------\n",
      "18.030400230376607Municipio\n",
      "ABAIARA             625.0304\n",
      "ACARAPE            2918.0304\n",
      "ACARAU             6852.0304\n",
      "ACOPIARA           3077.0304\n",
      "AIUABA              399.0304\n",
      "                     ...    \n",
      "URUBURETAMA        1508.0304\n",
      "URUOCA             1934.0304\n",
      "VARJOTA            2687.0304\n",
      "VARZEA ALEGRE      3253.0304\n",
      "VICOSA DO CEARA    4188.0304\n",
      "Name: count, Length: 184, dtype: float64Municipio\n",
      "ABAIARA             617.0\n",
      "ACARAPE            2910.0\n",
      "ACARAU             6844.0\n",
      "ACOPIARA           3069.0\n",
      "AIUABA              391.0\n",
      "                    ...  \n",
      "URUBURETAMA        1500.0\n",
      "URUOCA             1926.0\n",
      "VARJOTA            2679.0\n",
      "VARZEA ALEGRE      3245.0\n",
      "VICOSA DO CEARA    4180.0\n",
      "Name: count, Length: 184, dtype: float64 \n",
      "----------------------------------------------------\n",
      "----------------------------------------------------\n",
      "10.15277067434073716Municipio\n",
      "ABAIARA             617.152771\n",
      "ACARAPE            2910.152771\n",
      "ACARAU             6844.152771\n",
      "ACOPIARA           3069.152771\n",
      "AIUABA              391.152771\n",
      "                      ...     \n",
      "URUBURETAMA        1500.152771\n",
      "URUOCA             1926.152771\n",
      "VARJOTA            2679.152771\n",
      "VARZEA ALEGRE      3245.152771\n",
      "VICOSA DO CEARA    4180.152771\n",
      "Name: count, Length: 184, dtype: float64Municipio\n",
      "ABAIARA             617.0\n",
      "ACARAPE            2910.0\n",
      "ACARAU             6844.0\n",
      "ACOPIARA           3069.0\n",
      "AIUABA              391.0\n",
      "                    ...  \n",
      "URUBURETAMA        1500.0\n",
      "URUOCA             1926.0\n",
      "VARJOTA            2679.0\n",
      "VARZEA ALEGRE      3245.0\n",
      "VICOSA DO CEARA    4180.0\n",
      "Name: count, Length: 184, dtype: float64 \n",
      "----------------------------------------------------\n",
      "----------------------------------------------------\n",
      "1-1.0637546662349493Municipio\n",
      "ABAIARA             615.936245\n",
      "ACARAPE            2908.936245\n",
      "ACARAU             6842.936245\n",
      "ACOPIARA           3067.936245\n",
      "AIUABA              389.936245\n",
      "                      ...     \n",
      "URUBURETAMA        1498.936245\n",
      "URUOCA             1924.936245\n",
      "VARJOTA            2677.936245\n",
      "VARZEA ALEGRE      3243.936245\n",
      "VICOSA DO CEARA    4178.936245\n",
      "Name: count, Length: 184, dtype: float64Municipio\n",
      "ABAIARA             617.0\n",
      "ACARAPE            2910.0\n",
      "ACARAU             6844.0\n",
      "ACOPIARA           3069.0\n",
      "AIUABA              391.0\n",
      "                    ...  \n",
      "URUBURETAMA        1500.0\n",
      "URUOCA             1926.0\n",
      "VARJOTA            2679.0\n",
      "VARZEA ALEGRE      3245.0\n",
      "VICOSA DO CEARA    4180.0\n",
      "Name: count, Length: 184, dtype: float64 \n",
      "----------------------------------------------------\n",
      "----------------------------------------------------\n",
      "10.002024818307465962Municipio\n",
      "ABAIARA             617.002025\n",
      "ACARAPE            2910.002025\n",
      "ACARAU             6844.002025\n",
      "ACOPIARA           3069.002025\n",
      "AIUABA              391.002025\n",
      "                      ...     \n",
      "URUBURETAMA        1500.002025\n",
      "URUOCA             1926.002025\n",
      "VARJOTA            2679.002025\n",
      "VARZEA ALEGRE      3245.002025\n",
      "VICOSA DO CEARA    4180.002025\n",
      "Name: count, Length: 184, dtype: float64Municipio\n",
      "ABAIARA             617.0\n",
      "ACARAPE            2910.0\n",
      "ACARAU             6844.0\n",
      "ACOPIARA           3069.0\n",
      "AIUABA              391.0\n",
      "                    ...  \n",
      "URUBURETAMA        1500.0\n",
      "URUOCA             1926.0\n",
      "VARJOTA            2679.0\n",
      "VARZEA ALEGRE      3245.0\n",
      "VICOSA DO CEARA    4180.0\n",
      "Name: count, Length: 184, dtype: float64 \n",
      "----------------------------------------------------\n"
     ]
    }
   ],
   "source": [
    "f_d = df.groupby(['Municipio']).describe()['idade']['count']\n",
    "delta_f = 1\n",
    "budget = [0.1, 0.5, 1.0, 10.0] \n",
    "rui = []\n",
    "\n",
    "for valor in budget:\n",
    "    b = delta_f / valor\n",
    "    ruido = np.random.laplace(loc=0, scale=b)\n",
    "    rui.append(f_d + ruido)\n",
    "    print(f'----------------------------------------------------\\n{delta_f}{ruido}{f_d + ruido}{f_d} \\n----------------------------------------------------')"
   ]
  },
  {
   "cell_type": "markdown",
   "id": "e12ba7dd-2554-4072-87fd-87ba9043f231",
   "metadata": {},
   "source": [
    "<h3 align=\"left\">\n",
    "<b><span style=\"color:green\"> Criação do arquivo.csv do Total de Exames Realizados por Município</span></b>\n",
    "</h3>"
   ]
  },
  {
   "cell_type": "code",
   "execution_count": 15,
   "id": "17fa23d9-8241-46e5-bf73-c1b86e367cde",
   "metadata": {},
   "outputs": [],
   "source": [
    "rui1 = []\n",
    "for inter in range(0,184):\n",
    "    valor = rui[0][inter]\n",
    "    rui1.append(valor)"
   ]
  },
  {
   "cell_type": "code",
   "execution_count": 16,
   "id": "7e69d1e0-7c9a-4d97-8161-0d04e05b3df5",
   "metadata": {},
   "outputs": [],
   "source": [
    "rui2 = []\n",
    "for inter in range(0,184):\n",
    "    valor = rui[1][inter]\n",
    "    rui2.append(valor)"
   ]
  },
  {
   "cell_type": "code",
   "execution_count": 17,
   "id": "509343d5-a690-44fe-be21-87280e546491",
   "metadata": {},
   "outputs": [],
   "source": [
    "rui3 = []\n",
    "for inter in range(0,184):\n",
    "    valor = rui[2][inter]\n",
    "    rui3.append(valor)"
   ]
  },
  {
   "cell_type": "code",
   "execution_count": 18,
   "id": "2405a64d-271d-4ec9-9904-20370dec8946",
   "metadata": {},
   "outputs": [],
   "source": [
    "rui4 = []\n",
    "for inter in range(0,184):\n",
    "    valor = rui[3][inter]\n",
    "    rui4.append(valor)"
   ]
  },
  {
   "cell_type": "code",
   "execution_count": 19,
   "id": "cb4bfe10-829e-4c12-9f63-253087be2146",
   "metadata": {},
   "outputs": [],
   "source": [
    "rui5 = []\n",
    "\n",
    "rui5.append(rui1)\n",
    "rui5.append(rui2)\n",
    "rui5.append(rui3)\n",
    "rui5.append(rui4)\n",
    "\n",
    "CSV3 = pd.DataFrame(rui5, columns=f_d.index)\n",
    "CSV3.insert(0, \"EPSILON\", [0.1, 0.5, 1.0, 10.0], True)\n",
    "CSV3.to_csv('CSV_1.1_Q3.csv', index =False)"
   ]
  },
  {
   "cell_type": "markdown",
   "id": "8a846a04-323b-42c4-8002-22f35dd4a3e6",
   "metadata": {},
   "source": [
    "# ***1.2 Mecanismo Exponencial***\n",
    "<h3 align=\"left\">\n",
    "<b><span style=\"color:green\">Q1: Qual o município com o menor número de casos positivos de COVID-19.</span></b>\n",
    "</h3>"
   ]
  },
  {
   "cell_type": "code",
   "execution_count": 20,
   "id": "d176c5eb-0346-45f0-b8b7-4e67167592d9",
   "metadata": {},
   "outputs": [],
   "source": [
    "def exponential(df, opcoes, funcao_de_utilidade, sensitivity, epsilon):\n",
    "    scores = [funcao_de_utilidade(df, r) for r in opcoes]\n",
    "    probabilities = [np.exp(epsilon * score / (2 * sensitivity)) for score in scores]\n",
    "    probabilities = probabilities / np.linalg.norm(probabilities, ord=1)\n",
    "    return np.random.choice(opcoes, 1, p=probabilities)[0]"
   ]
  },
  {
   "cell_type": "code",
   "execution_count": 21,
   "id": "2c2a0b41-2cb1-428d-ac06-44695551e6b0",
   "metadata": {},
   "outputs": [],
   "source": [
    "options = df['Municipio'].unique()\n",
    "\n",
    "def funcao_de_utilidade(data, option):\n",
    "    return data.query('ResultadoExame == \"Positivo\"').value_counts(['Municipio'])[option]/data.shape[0]"
   ]
  },
  {
   "cell_type": "code",
   "execution_count": 22,
   "id": "d79b0b26-f037-4ffc-ac62-2592c34b361b",
   "metadata": {},
   "outputs": [],
   "source": [
    "budget = [0.1, 0.5, 1.0, 10.0] \n",
    "sensitivity = 1\n",
    "all_e_results = {}\n",
    "\n",
    "for valor in budget:\n",
    "    result = []\n",
    "    for j in range(10):\n",
    "        result.append(exponential(df, options, funcao_de_utilidade, sensitivity, valor))\n",
    "    all_e_results[str(valor)] = result"
   ]
  },
  {
   "cell_type": "code",
   "execution_count": 23,
   "id": "2b6e28f3-8329-4654-9476-a89919c6c3b6",
   "metadata": {},
   "outputs": [
    {
     "data": {
      "text/html": [
       "<div>\n",
       "<style scoped>\n",
       "    .dataframe tbody tr th:only-of-type {\n",
       "        vertical-align: middle;\n",
       "    }\n",
       "\n",
       "    .dataframe tbody tr th {\n",
       "        vertical-align: top;\n",
       "    }\n",
       "\n",
       "    .dataframe thead th {\n",
       "        text-align: right;\n",
       "    }\n",
       "</style>\n",
       "<table border=\"1\" class=\"dataframe\">\n",
       "  <thead>\n",
       "    <tr style=\"text-align: right;\">\n",
       "      <th></th>\n",
       "      <th>0.1</th>\n",
       "      <th>0.5</th>\n",
       "      <th>1.0</th>\n",
       "      <th>10.0</th>\n",
       "    </tr>\n",
       "  </thead>\n",
       "  <tbody>\n",
       "    <tr>\n",
       "      <th>0</th>\n",
       "      <td>JIJOCA DE JERICOACOARA</td>\n",
       "      <td>BELA CRUZ</td>\n",
       "      <td>APUIARES</td>\n",
       "      <td>URUBURETAMA</td>\n",
       "    </tr>\n",
       "    <tr>\n",
       "      <th>1</th>\n",
       "      <td>BARRO</td>\n",
       "      <td>GUARACIABA DO NORTE</td>\n",
       "      <td>MUCAMBO</td>\n",
       "      <td>MADALENA</td>\n",
       "    </tr>\n",
       "    <tr>\n",
       "      <th>2</th>\n",
       "      <td>ARACOIABA</td>\n",
       "      <td>TABULEIRO DO NORTE</td>\n",
       "      <td>LIMOEIRO DO NORTE</td>\n",
       "      <td>ARACOIABA</td>\n",
       "    </tr>\n",
       "    <tr>\n",
       "      <th>3</th>\n",
       "      <td>ACARAPE</td>\n",
       "      <td>TRAIRI</td>\n",
       "      <td>PENTECOSTE</td>\n",
       "      <td>VARZEA ALEGRE</td>\n",
       "    </tr>\n",
       "    <tr>\n",
       "      <th>4</th>\n",
       "      <td>CATUNDA</td>\n",
       "      <td>FORTIM</td>\n",
       "      <td>TEJUCUOCA</td>\n",
       "      <td>CATARINA</td>\n",
       "    </tr>\n",
       "    <tr>\n",
       "      <th>5</th>\n",
       "      <td>CAMPOS SALES</td>\n",
       "      <td>MULUNGU</td>\n",
       "      <td>CRATO</td>\n",
       "      <td>MONSENHOR TABOSA</td>\n",
       "    </tr>\n",
       "    <tr>\n",
       "      <th>6</th>\n",
       "      <td>MILAGRES</td>\n",
       "      <td>TIANGUA</td>\n",
       "      <td>QUIXERE</td>\n",
       "      <td>QUIXADA</td>\n",
       "    </tr>\n",
       "    <tr>\n",
       "      <th>7</th>\n",
       "      <td>PENAFORTE</td>\n",
       "      <td>PALMACIA</td>\n",
       "      <td>BARREIRA</td>\n",
       "      <td>SANTANA DO CARIRI</td>\n",
       "    </tr>\n",
       "    <tr>\n",
       "      <th>8</th>\n",
       "      <td>ANTONINA DO NORTE</td>\n",
       "      <td>GROAIRAS</td>\n",
       "      <td>RERIUTABA</td>\n",
       "      <td>NOVO ORIENTE</td>\n",
       "    </tr>\n",
       "    <tr>\n",
       "      <th>9</th>\n",
       "      <td>CARIUS</td>\n",
       "      <td>ARACATI</td>\n",
       "      <td>OCARA</td>\n",
       "      <td>ALTO SANTO</td>\n",
       "    </tr>\n",
       "  </tbody>\n",
       "</table>\n",
       "</div>"
      ],
      "text/plain": [
       "                      0.1                  0.5                1.0  \\\n",
       "0  JIJOCA DE JERICOACOARA            BELA CRUZ           APUIARES   \n",
       "1                   BARRO  GUARACIABA DO NORTE            MUCAMBO   \n",
       "2               ARACOIABA   TABULEIRO DO NORTE  LIMOEIRO DO NORTE   \n",
       "3                 ACARAPE               TRAIRI         PENTECOSTE   \n",
       "4                 CATUNDA               FORTIM          TEJUCUOCA   \n",
       "5            CAMPOS SALES              MULUNGU              CRATO   \n",
       "6                MILAGRES              TIANGUA            QUIXERE   \n",
       "7               PENAFORTE             PALMACIA           BARREIRA   \n",
       "8       ANTONINA DO NORTE             GROAIRAS          RERIUTABA   \n",
       "9                  CARIUS              ARACATI              OCARA   \n",
       "\n",
       "                10.0  \n",
       "0        URUBURETAMA  \n",
       "1           MADALENA  \n",
       "2          ARACOIABA  \n",
       "3      VARZEA ALEGRE  \n",
       "4           CATARINA  \n",
       "5   MONSENHOR TABOSA  \n",
       "6            QUIXADA  \n",
       "7  SANTANA DO CARIRI  \n",
       "8       NOVO ORIENTE  \n",
       "9         ALTO SANTO  "
      ]
     },
     "execution_count": 23,
     "metadata": {},
     "output_type": "execute_result"
    }
   ],
   "source": [
    "df2 = pd.DataFrame(all_e_results)\n",
    "df2"
   ]
  },
  {
   "cell_type": "markdown",
   "id": "28a167ae-35d6-4113-afca-9a93d062ac0a",
   "metadata": {},
   "source": [
    "<h3 align=\"left\">\n",
    "<b><span style=\"color:green\">Criação do arquivo.csv de Qual o município com o menor número de casos positivos de COVID-19.</span></b>\n",
    "</h3>"
   ]
  },
  {
   "cell_type": "code",
   "execution_count": 24,
   "id": "d327c75d-3077-407f-b64a-7a6470aa3d55",
   "metadata": {},
   "outputs": [],
   "source": [
    "df2.to_csv('CSV_1.2_Q1.csv', index= False)"
   ]
  },
  {
   "cell_type": "code",
   "execution_count": 25,
   "id": "e093d5a7-eecc-4101-bd3a-a5c35b1beb6d",
   "metadata": {},
   "outputs": [
    {
     "name": "stdout",
     "output_type": "stream",
     "text": [
      "Histograma para epsilon: 0.1\n"
     ]
    },
    {
     "data": {
      "image/png": "[encoded data removed]",
      "text/plain": [
       "<Figure size 432x288 with 1 Axes>"
      ]
     },
     "metadata": {},
     "output_type": "display_data"
    },
    {
     "name": "stdout",
     "output_type": "stream",
     "text": [
      "Histograma para epsilon: 0.5\n"
     ]
    },
    {
     "data": {
      "image/png": "[encoded data removed]",
      "text/plain": [
       "<Figure size 432x288 with 1 Axes>"
      ]
     },
     "metadata": {},
     "output_type": "display_data"
    },
    {
     "name": "stdout",
     "output_type": "stream",
     "text": [
      "Histograma para epsilon: 1.0\n"
     ]
    },
    {
     "data": {
      "image/png": "[encoded data removed]",
      "text/plain": [
       "<Figure size 432x288 with 1 Axes>"
      ]
     },
     "metadata": {},
     "output_type": "display_data"
    },
    {
     "name": "stdout",
     "output_type": "stream",
     "text": [
      "Histograma para epsilon: 10.0\n"
     ]
    },
    {
     "data": {
      "image/png": "[encoded data removed]",
      "text/plain": [
       "<Figure size 432x288 with 1 Axes>"
      ]
     },
     "metadata": {},
     "output_type": "display_data"
    }
   ],
   "source": [
    "for inte1 in budget:\n",
    "    print(f'Histograma para epsilon: {inte1}')\n",
    "    sns.histplot(data=df2, y=str(inte1))\n",
    "    plt.show()"
   ]
  },
  {
   "cell_type": "code",
   "execution_count": 26,
   "id": "9ea7009c-ddc3-491b-930d-e93517521e8b",
   "metadata": {},
   "outputs": [
    {
     "data": {
      "text/plain": [
       "Municipio        \n",
       "FORTALEZA            52558\n",
       "JUAZEIRO DO NORTE    12298\n",
       "SOBRAL                9990\n",
       "CRATO                 8488\n",
       "MARACANAU             7273\n",
       "                     ...  \n",
       "AIUABA                  71\n",
       "ANTONINA DO NORTE       64\n",
       "ARNEIROZ                59\n",
       "PENAFORTE               58\n",
       "TARRAFAS                50\n",
       "Length: 184, dtype: int64"
      ]
     },
     "execution_count": 26,
     "metadata": {},
     "output_type": "execute_result"
    }
   ],
   "source": [
    "df.query('ResultadoExame == \"Positivo\"').value_counts(['Municipio'])"
   ]
  },
  {
   "cell_type": "markdown",
   "id": "12db454f-e39d-4311-9b39-fac7ccbbf98c",
   "metadata": {},
   "source": [
    "<h3 align=\"left\">\n",
    "<b><span style=\"color:green\">Q2: Qual a década com o maior número de casos negativos de COVID-19.</span></b>\n",
    "</h3>"
   ]
  },
  {
   "cell_type": "code",
   "execution_count": 27,
   "id": "7fa9c390-460e-4d14-b558-53fbe81df5e5",
   "metadata": {},
   "outputs": [],
   "source": [
    "budget = [0.1, 0.5, 1.0, 10.0] \n",
    "sensitivity = 1\n",
    "all_e_results = {}\n",
    "\n",
    "for valor in budget:\n",
    "    result = []\n",
    "    for j in range(10):\n",
    "        result.append(exponential(df, options, funcao_de_utilidade, sensitivity, valor))\n",
    "    all_e_results[str(valor)] = result"
   ]
  },
  {
   "cell_type": "code",
   "execution_count": 28,
   "id": "5568b13a-693a-4aae-8f9c-0c5727b78083",
   "metadata": {},
   "outputs": [
    {
     "data": {
      "text/html": [
       "<div>\n",
       "<style scoped>\n",
       "    .dataframe tbody tr th:only-of-type {\n",
       "        vertical-align: middle;\n",
       "    }\n",
       "\n",
       "    .dataframe tbody tr th {\n",
       "        vertical-align: top;\n",
       "    }\n",
       "\n",
       "    .dataframe thead th {\n",
       "        text-align: right;\n",
       "    }\n",
       "</style>\n",
       "<table border=\"1\" class=\"dataframe\">\n",
       "  <thead>\n",
       "    <tr style=\"text-align: right;\">\n",
       "      <th></th>\n",
       "      <th>0.1</th>\n",
       "      <th>0.5</th>\n",
       "      <th>1.0</th>\n",
       "      <th>10.0</th>\n",
       "    </tr>\n",
       "  </thead>\n",
       "  <tbody>\n",
       "    <tr>\n",
       "      <th>0</th>\n",
       "      <td>PACATUBA</td>\n",
       "      <td>JIJOCA DE JERICOACOARA</td>\n",
       "      <td>IBICUITINGA</td>\n",
       "      <td>ACARAU</td>\n",
       "    </tr>\n",
       "    <tr>\n",
       "      <th>1</th>\n",
       "      <td>PENTECOSTE</td>\n",
       "      <td>CARIUS</td>\n",
       "      <td>MARTINOPOLE</td>\n",
       "      <td>JUAZEIRO DO NORTE</td>\n",
       "    </tr>\n",
       "    <tr>\n",
       "      <th>2</th>\n",
       "      <td>SABOEIRO</td>\n",
       "      <td>PALMACIA</td>\n",
       "      <td>SANTA QUITERIA</td>\n",
       "      <td>CAMOCIM</td>\n",
       "    </tr>\n",
       "    <tr>\n",
       "      <th>3</th>\n",
       "      <td>ALCANTARAS</td>\n",
       "      <td>ABAIARA</td>\n",
       "      <td>JARDIM</td>\n",
       "      <td>BEBERIBE</td>\n",
       "    </tr>\n",
       "    <tr>\n",
       "      <th>4</th>\n",
       "      <td>GROAIRAS</td>\n",
       "      <td>BARREIRA</td>\n",
       "      <td>BAIXIO</td>\n",
       "      <td>PENAFORTE</td>\n",
       "    </tr>\n",
       "    <tr>\n",
       "      <th>5</th>\n",
       "      <td>BARROQUINHA</td>\n",
       "      <td>CRATO</td>\n",
       "      <td>MOMBACA</td>\n",
       "      <td>BEBERIBE</td>\n",
       "    </tr>\n",
       "    <tr>\n",
       "      <th>6</th>\n",
       "      <td>CANINDE</td>\n",
       "      <td>SABOEIRO</td>\n",
       "      <td>ITAICABA</td>\n",
       "      <td>SABOEIRO</td>\n",
       "    </tr>\n",
       "    <tr>\n",
       "      <th>7</th>\n",
       "      <td>PENTECOSTE</td>\n",
       "      <td>ALTANEIRA</td>\n",
       "      <td>ICO</td>\n",
       "      <td>ALTANEIRA</td>\n",
       "    </tr>\n",
       "    <tr>\n",
       "      <th>8</th>\n",
       "      <td>SABOEIRO</td>\n",
       "      <td>BREJO SANTO</td>\n",
       "      <td>CEDRO</td>\n",
       "      <td>JAGUARETAMA</td>\n",
       "    </tr>\n",
       "    <tr>\n",
       "      <th>9</th>\n",
       "      <td>ITAPAJE</td>\n",
       "      <td>BOA VIAGEM</td>\n",
       "      <td>MORRINHOS</td>\n",
       "      <td>CARIRE</td>\n",
       "    </tr>\n",
       "  </tbody>\n",
       "</table>\n",
       "</div>"
      ],
      "text/plain": [
       "           0.1                     0.5             1.0               10.0\n",
       "0     PACATUBA  JIJOCA DE JERICOACOARA     IBICUITINGA             ACARAU\n",
       "1   PENTECOSTE                  CARIUS     MARTINOPOLE  JUAZEIRO DO NORTE\n",
       "2     SABOEIRO                PALMACIA  SANTA QUITERIA            CAMOCIM\n",
       "3   ALCANTARAS                 ABAIARA          JARDIM           BEBERIBE\n",
       "4     GROAIRAS                BARREIRA          BAIXIO          PENAFORTE\n",
       "5  BARROQUINHA                   CRATO         MOMBACA           BEBERIBE\n",
       "6      CANINDE                SABOEIRO        ITAICABA           SABOEIRO\n",
       "7   PENTECOSTE               ALTANEIRA             ICO          ALTANEIRA\n",
       "8     SABOEIRO             BREJO SANTO           CEDRO        JAGUARETAMA\n",
       "9      ITAPAJE              BOA VIAGEM       MORRINHOS             CARIRE"
      ]
     },
     "execution_count": 28,
     "metadata": {},
     "output_type": "execute_result"
    }
   ],
   "source": [
    "df3 = pd.DataFrame(all_e_results)\n",
    "df3"
   ]
  },
  {
   "cell_type": "markdown",
   "id": "257746e9-6714-45d9-a52e-fff65a347166",
   "metadata": {},
   "source": [
    "<h3 align=\"left\">\n",
    "<b><span style=\"color:green\">Criação do arquivo.csv de Qual a década com o maior número de casos negativos de COVID-19.</span></b>\n",
    "</h3>"
   ]
  },
  {
   "cell_type": "code",
   "execution_count": 29,
   "id": "f3734b68-b77c-4fdb-b1f8-31f777285348",
   "metadata": {},
   "outputs": [],
   "source": [
    "df3.to_csv('CSV_1.2_Q2.csv', index= False)"
   ]
  },
  {
   "cell_type": "code",
   "execution_count": 30,
   "id": "7103d6ae-7c03-42b8-8da5-8def0322322a",
   "metadata": {},
   "outputs": [
    {
     "name": "stdout",
     "output_type": "stream",
     "text": [
      "Histograma para epsilon: 0.1\n"
     ]
    },
    {
     "data": {
      "image/png": "[encoded data removed]",
      "text/plain": [
       "<Figure size 432x288 with 1 Axes>"
      ]
     },
     "metadata": {},
     "output_type": "display_data"
    },
    {
     "name": "stdout",
     "output_type": "stream",
     "text": [
      "Histograma para epsilon: 0.5\n"
     ]
    },
    {
     "data": {
      "image/png": "[encoded data removed]",
      "text/plain": [
       "<Figure size 432x288 with 1 Axes>"
      ]
     },
     "metadata": {},
     "output_type": "display_data"
    },
    {
     "name": "stdout",
     "output_type": "stream",
     "text": [
      "Histograma para epsilon: 1.0\n"
     ]
    },
    {
     "data": {
      "image/png": "[encoded data removed]",
      "text/plain": [
       "<Figure size 432x288 with 1 Axes>"
      ]
     },
     "metadata": {},
     "output_type": "display_data"
    },
    {
     "name": "stdout",
     "output_type": "stream",
     "text": [
      "Histograma para epsilon: 10.0\n"
     ]
    },
    {
     "data": {
      "image/png": "[encoded data removed]",
      "text/plain": [
       "<Figure size 432x288 with 1 Axes>"
      ]
     },
     "metadata": {},
     "output_type": "display_data"
    }
   ],
   "source": [
    "for inte2 in budget:\n",
    "    print(f'Histograma para epsilon: {inte2}')\n",
    "    sns.histplot(data=df3, y=str(inte2))\n",
    "    plt.show()"
   ]
  },
  {
   "cell_type": "code",
   "execution_count": 31,
   "id": "56c8e0cf-a4d0-409b-ae23-4934bea38b09",
   "metadata": {},
   "outputs": [
    {
     "data": {
      "text/plain": [
       "Nascimento\n",
       "1994-05-02    97\n",
       "dtype: int64"
      ]
     },
     "execution_count": 31,
     "metadata": {},
     "output_type": "execute_result"
    }
   ],
   "source": [
    "df.query('ResultadoExame == \"Negativo\"').value_counts(['Nascimento'])[0:1]"
   ]
  }
 ],
 "metadata": {
  "kernelspec": {
   "display_name": "Python 3 (ipykernel)",
   "language": "python",
   "name": "python3"
  },
  "language_info": {
   "codemirror_mode": {
    "name": "ipython",
    "version": 3
   },
   "file_extension": ".py",
   "mimetype": "text/x-python",
   "name": "python",
   "nbconvert_exporter": "python",
   "pygments_lexer": "ipython3",
   "version": "3.9.12"
  }
 },
 "nbformat": 4,
 "nbformat_minor": 5
}
