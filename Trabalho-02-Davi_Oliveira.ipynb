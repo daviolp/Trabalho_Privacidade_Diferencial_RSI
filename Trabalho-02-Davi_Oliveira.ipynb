{
 "cells": [
  {
   "cell_type": "markdown",
   "id": "b678faf6-48b0-444c-b50f-29b7af0cb955",
   "metadata": {},
   "source": [
    "<h1 align=\"center\"><b>Trabalho 02 – Privacidade Diferencial Mecanismos Laplace & Exponencial<b></h1>\n",
    "<h1 align=\"center\">\n",
    "    <a href=\"https://si3.ufc.br/sigaa/portais/discente/discente.jsf\">Davi Oliveira Lopes - Matrícula: 543049</a>\n",
    "</h1>\n",
    "<h1 align=\"center\">\n",
    "    <a href=\"https://cc.ufc.br/curso/corpo-docente/javam-machado/\"> Professor: Javam Machado</a>\n",
    "</h1>\n",
    "\n",
    "<a href=\"https://github.com/daviolp/Trabalho_Generalizacao_RSI\">\n",
    "<img src=\"https://img.shields.io/static/v1?label=GitHub&message=daviolp&color=7159c1&style=for-the-badge&logo=ghost\"/>"
   ]
  },
  {
   "cell_type": "code",
   "execution_count": 2,
   "id": "2ef60550-5033-4acf-87b2-538d72e7efd7",
   "metadata": {},
   "outputs": [],
   "source": [
    "import pandas as pd\n",
    "import numpy as np\n",
    "import matplotlib as plt"
   ]
  }
 ],
 "metadata": {
  "kernelspec": {
   "display_name": "Python 3 (ipykernel)",
   "language": "python",
   "name": "python3"
  },
  "language_info": {
   "codemirror_mode": {
    "name": "ipython",
    "version": 3
   },
   "file_extension": ".py",
   "mimetype": "text/x-python",
   "name": "python",
   "nbconvert_exporter": "python",
   "pygments_lexer": "ipython3",
   "version": "3.9.12"
  }
 },
 "nbformat": 4,
 "nbformat_minor": 5
}
